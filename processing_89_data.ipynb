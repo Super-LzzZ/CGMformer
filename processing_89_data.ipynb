{
 "cells": [
  {
   "cell_type": "code",
   "execution_count": 50,
   "metadata": {},
   "outputs": [],
   "source": [
    "import pandas as pd\n",
    "from datasets import Dataset"
   ]
  },
  {
   "cell_type": "code",
   "execution_count": 51,
   "metadata": {},
   "outputs": [
    {
     "name": "stdout",
     "output_type": "stream",
     "text": [
      "(1917, 1)\n",
      "     ,0,1,2,3,4,5,6,7,8,9,10,11,12,13,14,15,16,17,18,19,20,21,22,23,24,25,26,27,28,29,30,31,32,33,34,35,36,37,38,39,40,41,42,43,44,45,46,47,48,49,50,51,52,53,54,55,56,57,58,59,60,61,62,63,64,65,66,67,68,69,70,71,72,73,74,75,76,77,78,79,80,81,82,83,84,85,86,87,88,89,90,91,92,93,94,95,96,97,98,99,100,101,102,103,104,105,106,107,108,109,110,111,112,113,114,115,116,117,118,119,120,121,122,123,124,125,126,127,128,129,130,131,132,133,134,135,136,137,138,139,140,141,142,143,144,145,146,147,148,149,150,151,152,153,154,155,156,157,158,159,160,161,162,163,164,165,166,167,168,169,170,171,172,173,174,175,176,177,178,179,180,181,182,183,184,185,186,187,188,189,190,191,192,193,194,195,196,197,198,199,200,201,202,203,204,205,206,207,208,209,210,211,212,213,214,215,216,217,218,219,220,221,222,223,224,225,226,227,228,229,230,231,232,233,234,235,236,237,238,239,240,241,242,243,244,245,246,247,248,249,250,251,252,253,254,255,256,257,258,259,260,261,262,263,264,265,266,267,268,269,270,271,272,273,274,275,276,277,278,279,280,281,282,283,284,285,286,287\n",
      "0     0,99.0,100.8,100.8,100.8,100.8,100.8,100.8,100...                                                                                                                                                                                                                                                                                                                                                                                                                                                                                                                                                                                                                                                                                                                                                                                                                                                                                                                                                                                                                                \n",
      "1     1,111.6,111.6,108.0,106.2,104.4,102.6,102.6,10...                                                                                                                                                                                                                                                                                                                                                                                                                                                                                                                                                                                                                                                                                                                                                                                                                                                                                                                                                                                                                                \n",
      "2     2,72.0,70.2,70.2,68.39999999999999,70.2,75.600...                                                                                                                                                                                                                                                                                                                                                                                                                                                                                                                                                                                                                                                                                                                                                                                                                                                                                                                                                                                                                                \n",
      "3     3,84.60000000000001,84.60000000000001,84.60000...                                                                                                                                                                                                                                                                                                                                                                                                                                                                                                                                                                                                                                                                                                                                                                                                                                                                                                                                                                                                                                \n",
      "4     4,113.4,115.2,113.4,111.6,109.8,108.0,106.2,10...                                                                                                                                                                                                                                                                                                                                                                                                                                                                                                                                                                                                                                                                                                                                                                                                                                                                                                                                                                                                                                \n",
      "...                                                 ...                                                                                                                                                                                                                                                                                                                                                                                                                                                                                                                                                                                                                                                                                                                                                                                                                                                                                                                                                                                                                                \n",
      "1912  1912,104.4,102.6,100.8,97.2,100.8,100.8,100.8,...                                                                                                                                                                                                                                                                                                                                                                                                                                                                                                                                                                                                                                                                                                                                                                                                                                                                                                                                                                                                                                \n",
      "1913  1913,102.6,102.6,102.6,102.6,102.6,102.6,102.6...                                                                                                                                                                                                                                                                                                                                                                                                                                                                                                                                                                                                                                                                                                                                                                                                                                                                                                                                                                                                                                \n",
      "1914  1914,84.60000000000001,81.0,79.2,84.6000000000...                                                                                                                                                                                                                                                                                                                                                                                                                                                                                                                                                                                                                                                                                                                                                                                                                                                                                                                                                                                                                                \n",
      "1915  1915,64.8,61.2,61.2,61.2,61.2,61.2,59.4,59.4,5...                                                                                                                                                                                                                                                                                                                                                                                                                                                                                                                                                                                                                                                                                                                                                                                                                                                                                                                                                                                                                                \n",
      "1916  1916,120.6,122.4,120.6,115.2,113.4,111.6,109.8...                                                                                                                                                                                                                                                                                                                                                                                                                                                                                                                                                                                                                                                                                                                                                                                                                                                                                                                                                                                                                                \n",
      "\n",
      "[1917 rows x 1 columns]\n",
      "                                           input_ids                 id type  \\\n",
      "0  [0,99.0,100.8,100.8,100.8,100.8,100.8,100.8,10...  Shanghai_IGR_1018  IGR   \n",
      "1  [1,111.6,111.6,108.0,106.2,104.4,102.6,102.6,1...  Shanghai_IGR_1018  IGR   \n",
      "2  [2,72.0,70.2,70.2,68.39999999999999,70.2,75.60...  Shanghai_IGR_1020  IGR   \n",
      "3  [3,84.60000000000001,84.60000000000001,84.6000...  Shanghai_IGR_1020  IGR   \n",
      "4  [4,113.4,115.2,113.4,111.6,109.8,108.0,106.2,1...  Shanghai_IGR_1020  IGR   \n",
      "\n",
      "  gender   age    ga  hba1c     fpg  ins0  cp0  ...  Fast_s  Fast_e  Dawn_s  \\\n",
      "0      M  32.0  17.0    7.6   97.92   NaN  NaN  ...       0      91      48   \n",
      "1      M  32.0  17.0    7.6   97.92   NaN  NaN  ...       0      89      48   \n",
      "2      F  68.0  19.0    6.1  104.58   NaN  NaN  ...       0      72      48   \n",
      "3      F  68.0  19.0    6.1  104.58   NaN  NaN  ...      35     111      48   \n",
      "4      F  68.0  19.0    6.1  104.58   NaN  NaN  ...       0      95      48   \n",
      "\n",
      "   Dawn_e  Breakfast_s  Breakfast_e  Lunch_s  Lunch_e  Dinner_s  Dinner_e  \n",
      "0      91         91.0        115.0    138.0    162.0       NaN       NaN  \n",
      "1      89         89.0        113.0    149.0    173.0       NaN       NaN  \n",
      "2      72          NaN          NaN      NaN      NaN       NaN       NaN  \n",
      "3     111        111.0        135.0    152.0    176.0     232.0     256.0  \n",
      "4      95         95.0        119.0    140.0    164.0     238.0     262.0  \n",
      "\n",
      "[5 rows x 28 columns]\n"
     ]
    },
    {
     "data": {
      "text/plain": [
       "1"
      ]
     },
     "execution_count": 51,
     "metadata": {},
     "output_type": "execute_result"
    }
   ],
   "source": [
    "dir = \"/share/home/liangzhongming/930/CGMformer/data/Data_downstream/\"\n",
    "data_df = pd.read_csv(dir + 'Zhao_Data.csv', sep='\\t')\n",
    "splits_df = pd.read_csv(dir + 'Zhao_TrainTestSplit.csv')\n",
    "labels_df = pd.read_csv(dir + 'Zhao_Label.csv')\n",
    "# time_df = pd.read_csv(dir + 'Shanghai_TimeSplit.csv')\n",
    "assert len(splits_df) == len(labels_df) ==  len(data_df)\n",
    "\n",
    "print(data_df.shape)\n",
    "print(data_df)\n",
    "# input_ids = data_df.iloc[:, 1:].apply(lambda row: row.tolist(), axis=1)\n",
    "\n",
    "# merged_df = pd.concat([data_df, labels_df, time_df], axis=1)\n",
    "# merged_df\n",
    "\n",
    "# input_ids = [row.tolist() for _, row in data_df.iterrows()]\n",
    "\n",
    "input_ids = data_df.apply(lambda row: row[0:].tolist(), axis=1)\n",
    "# input_ids = data_df.iloc[:, 1:].apply(lambda row: row.tolist(), axis=1)\n",
    "# input_ids = data_df.iloc[:, 1:].to_numpy().tolist() \n",
    "input_ids\n",
    "\n",
    "final_data = {\n",
    "    'input_ids': input_ids,\n",
    "}\n",
    "final_df = pd.DataFrame(final_data)\n",
    "\n",
    "labels_df = labels_df.drop(columns=['Unnamed: 0'])\n",
    "time_df = time_df.drop(columns=['Unnamed: 0'])\n",
    "\n",
    "final_df = final_df.join(labels_df).join(time_df)\n",
    "\n",
    "print(final_df.head())\n",
    "len(final_df['input_ids'][0])"
   ]
  },
  {
   "cell_type": "code",
   "execution_count": 52,
   "metadata": {},
   "outputs": [
    {
     "data": {
      "application/vnd.jupyter.widget-view+json": {
       "model_id": "4614bde68626473fbd6033cd506361b9",
       "version_major": 2,
       "version_minor": 0
      },
      "text/plain": [
       "Saving the dataset (0/1 shards):   0%|          | 0/1446 [00:00<?, ? examples/s]"
      ]
     },
     "metadata": {},
     "output_type": "display_data"
    },
    {
     "data": {
      "application/vnd.jupyter.widget-view+json": {
       "model_id": "b050c065d83540a2bdf2740c656e7249",
       "version_major": 2,
       "version_minor": 0
      },
      "text/plain": [
       "Saving the dataset (0/1 shards):   0%|          | 0/471 [00:00<?, ? examples/s]"
      ]
     },
     "metadata": {},
     "output_type": "display_data"
    },
    {
     "data": {
      "application/vnd.jupyter.widget-view+json": {
       "model_id": "6801a99f435a4e7588ac3a8235895a71",
       "version_major": 2,
       "version_minor": 0
      },
      "text/plain": [
       "Saving the dataset (0/1 shards):   0%|          | 0/1521 [00:00<?, ? examples/s]"
      ]
     },
     "metadata": {},
     "output_type": "display_data"
    },
    {
     "data": {
      "application/vnd.jupyter.widget-view+json": {
       "model_id": "7dbdffded8444324a2604c45b7832da7",
       "version_major": 2,
       "version_minor": 0
      },
      "text/plain": [
       "Saving the dataset (0/1 shards):   0%|          | 0/396 [00:00<?, ? examples/s]"
      ]
     },
     "metadata": {},
     "output_type": "display_data"
    },
    {
     "data": {
      "application/vnd.jupyter.widget-view+json": {
       "model_id": "dde7bf8d17b7453bad029863adb7581c",
       "version_major": 2,
       "version_minor": 0
      },
      "text/plain": [
       "Saving the dataset (0/1 shards):   0%|          | 0/1395 [00:00<?, ? examples/s]"
      ]
     },
     "metadata": {},
     "output_type": "display_data"
    },
    {
     "data": {
      "application/vnd.jupyter.widget-view+json": {
       "model_id": "6892cf2df85c45c09c01fd3fe2ab5081",
       "version_major": 2,
       "version_minor": 0
      },
      "text/plain": [
       "Saving the dataset (0/1 shards):   0%|          | 0/522 [00:00<?, ? examples/s]"
      ]
     },
     "metadata": {},
     "output_type": "display_data"
    },
    {
     "data": {
      "application/vnd.jupyter.widget-view+json": {
       "model_id": "6f1727cfda5140f6a2b35adcb6cdb1f3",
       "version_major": 2,
       "version_minor": 0
      },
      "text/plain": [
       "Saving the dataset (0/1 shards):   0%|          | 0/1493 [00:00<?, ? examples/s]"
      ]
     },
     "metadata": {},
     "output_type": "display_data"
    },
    {
     "data": {
      "application/vnd.jupyter.widget-view+json": {
       "model_id": "bcbc042be5ec466d821c476e42c65dac",
       "version_major": 2,
       "version_minor": 0
      },
      "text/plain": [
       "Saving the dataset (0/1 shards):   0%|          | 0/424 [00:00<?, ? examples/s]"
      ]
     },
     "metadata": {},
     "output_type": "display_data"
    },
    {
     "data": {
      "application/vnd.jupyter.widget-view+json": {
       "model_id": "3ddae8f353a944c0b61e433e66ffa419",
       "version_major": 2,
       "version_minor": 0
      },
      "text/plain": [
       "Saving the dataset (0/1 shards):   0%|          | 0/1477 [00:00<?, ? examples/s]"
      ]
     },
     "metadata": {},
     "output_type": "display_data"
    },
    {
     "data": {
      "application/vnd.jupyter.widget-view+json": {
       "model_id": "1a9e07c23211430288bfd0ad57aeda2f",
       "version_major": 2,
       "version_minor": 0
      },
      "text/plain": [
       "Saving the dataset (0/1 shards):   0%|          | 0/440 [00:00<?, ? examples/s]"
      ]
     },
     "metadata": {},
     "output_type": "display_data"
    }
   ],
   "source": [
    "\n",
    "\n",
    "for cv_index in range(1, 6):\n",
    "    cv_column = f'CV_{cv_index}'\n",
    "\n",
    "    train_index = splits_df[cv_column]\n",
    "    test_index = ~train_index\n",
    "    \n",
    "    train_data = final_df[train_index]\n",
    "    test_data = final_df[test_index]\n",
    "\n",
    "    train_dataset = Dataset.from_dict(train_data)\n",
    "    test_dataset = Dataset.from_dict(test_data)\n",
    "\n",
    "    train_dataset.save_to_disk(f'/share/home/liangzhongming/930/CGMformer/data/Data0809/downstream/train_dataset_cv_{cv_index}')\n",
    "    test_dataset.save_to_disk(f'/share/home/liangzhongming/930/CGMformer/data/Data0809/downstream/test_dataset_cv_{cv_index}')\n",
    "\n",
    "\n"
   ]
  },
  {
   "cell_type": "markdown",
   "metadata": {},
   "source": [
    "new way"
   ]
  },
  {
   "cell_type": "code",
   "execution_count": 10,
   "metadata": {},
   "outputs": [],
   "source": [
    "'''\n",
    "@Author: liangzhongming\n",
    "@Date: \n",
    "@LastEditors: liangzhongming\n",
    "@LastEditTime: \n",
    "@Description:\n",
    "'''\n",
    "import pandas as pd\n",
    "from datasets import Dataset\n",
    "from sklearn.model_selection import KFold\n",
    "from sklearn.model_selection import train_test_split\n",
    "\n",
    "\n",
    "dir = \"/share/home/liangzhongming/930/CGMformer/data/8_11_data/\"\n",
    "# dir = \"/share/home/liangzhongming/930/CGMformer/data/Data_downstream/\"\n",
    "# dir = \"/share/home/liangzhongming/930/CGMformer/data/8_11_data/10_5_Excercise/\"\n",
    "# dir = \"/share/home/liangzhongming/930/CGMformer/data/ShanghaiDiet_1014/\"\n",
    "# dir = \"/share/home/liangzhongming/930/CGMformer/data/Data_downstream/1017Zhao/\"\n",
    "time_series_df = pd.read_csv(dir + 'Shanghai_Data.csv')\n",
    "splits_df = pd.read_csv(dir + 'Shanghai_TrainTestSplit.csv', index_col=0)\n",
    "labels_df = pd.read_csv(dir + 'Shanghai_Label.csv', index_col=0)\n",
    "time_df = pd.read_csv(dir + 'Shanghai_TimeSplit.csv')\n",
    "# assert len(time_series_df) == len(labels_df)\n",
    "assert len(time_series_df) == len(labels_df) == len(splits_df) == len(time_df)"
   ]
  },
  {
   "cell_type": "code",
   "execution_count": 11,
   "metadata": {},
   "outputs": [
    {
     "data": {
      "text/plain": [
       "288"
      ]
     },
     "execution_count": 11,
     "metadata": {},
     "output_type": "execute_result"
    }
   ],
   "source": [
    "time_series_df\n",
    "input_ids = time_series_df.iloc[:, 1:].to_numpy().tolist()\n",
    "len(input_ids[0])"
   ]
  },
  {
   "cell_type": "code",
   "execution_count": 12,
   "metadata": {},
   "outputs": [
    {
     "data": {
      "application/vnd.jupyter.widget-view+json": {
       "model_id": "4af783aa017e46d9b608b1023b3ca9a6",
       "version_major": 2,
       "version_minor": 0
      },
      "text/plain": [
       "Saving the dataset (0/1 shards):   0%|          | 0/1750 [00:00<?, ? examples/s]"
      ]
     },
     "metadata": {},
     "output_type": "display_data"
    },
    {
     "data": {
      "application/vnd.jupyter.widget-view+json": {
       "model_id": "ca36e52c8100401991587b145cebf943",
       "version_major": 2,
       "version_minor": 0
      },
      "text/plain": [
       "Saving the dataset (0/1 shards):   0%|          | 0/1700 [00:00<?, ? examples/s]"
      ]
     },
     "metadata": {},
     "output_type": "display_data"
    },
    {
     "data": {
      "application/vnd.jupyter.widget-view+json": {
       "model_id": "2f974a38f7944b3a90dd0a3c2857f0c2",
       "version_major": 2,
       "version_minor": 0
      },
      "text/plain": [
       "Saving the dataset (0/1 shards):   0%|          | 0/1650 [00:00<?, ? examples/s]"
      ]
     },
     "metadata": {},
     "output_type": "display_data"
    },
    {
     "data": {
      "application/vnd.jupyter.widget-view+json": {
       "model_id": "2c11ab5ea11b4a9ca6bbd0c4a71d41e2",
       "version_major": 2,
       "version_minor": 0
      },
      "text/plain": [
       "Saving the dataset (0/1 shards):   0%|          | 0/1450 [00:00<?, ? examples/s]"
      ]
     },
     "metadata": {},
     "output_type": "display_data"
    },
    {
     "data": {
      "application/vnd.jupyter.widget-view+json": {
       "model_id": "a540dbcc9b014a5090e3ec439bd73de1",
       "version_major": 2,
       "version_minor": 0
      },
      "text/plain": [
       "Saving the dataset (0/1 shards):   0%|          | 0/1400 [00:00<?, ? examples/s]"
      ]
     },
     "metadata": {},
     "output_type": "display_data"
    },
    {
     "data": {
      "application/vnd.jupyter.widget-view+json": {
       "model_id": "3f64bfea92354238bc145f66d47edbf6",
       "version_major": 2,
       "version_minor": 0
      },
      "text/plain": [
       "Saving the dataset (0/1 shards):   0%|          | 0/1200 [00:00<?, ? examples/s]"
      ]
     },
     "metadata": {},
     "output_type": "display_data"
    },
    {
     "data": {
      "application/vnd.jupyter.widget-view+json": {
       "model_id": "fdb0061c71b04a209de7831167ba35a0",
       "version_major": 2,
       "version_minor": 0
      },
      "text/plain": [
       "Saving the dataset (0/1 shards):   0%|          | 0/1150 [00:00<?, ? examples/s]"
      ]
     },
     "metadata": {},
     "output_type": "display_data"
    },
    {
     "data": {
      "application/vnd.jupyter.widget-view+json": {
       "model_id": "c67b7721b55a4969a36b318d922e0718",
       "version_major": 2,
       "version_minor": 0
      },
      "text/plain": [
       "Saving the dataset (0/1 shards):   0%|          | 0/950 [00:00<?, ? examples/s]"
      ]
     },
     "metadata": {},
     "output_type": "display_data"
    },
    {
     "data": {
      "application/vnd.jupyter.widget-view+json": {
       "model_id": "c4ac50c6bed941ed9f25c428f4655c9d",
       "version_major": 2,
       "version_minor": 0
      },
      "text/plain": [
       "Saving the dataset (0/1 shards):   0%|          | 0/900 [00:00<?, ? examples/s]"
      ]
     },
     "metadata": {},
     "output_type": "display_data"
    },
    {
     "data": {
      "application/vnd.jupyter.widget-view+json": {
       "model_id": "d967d6f9228d418fa851708657d3436f",
       "version_major": 2,
       "version_minor": 0
      },
      "text/plain": [
       "Saving the dataset (0/1 shards):   0%|          | 0/450 [00:00<?, ? examples/s]"
      ]
     },
     "metadata": {},
     "output_type": "display_data"
    },
    {
     "data": {
      "application/vnd.jupyter.widget-view+json": {
       "model_id": "1038218d6f604f118eeca8ea72b3842c",
       "version_major": 2,
       "version_minor": 0
      },
      "text/plain": [
       "Saving the dataset (0/1 shards):   0%|          | 0/400 [00:00<?, ? examples/s]"
      ]
     },
     "metadata": {},
     "output_type": "display_data"
    },
    {
     "data": {
      "application/vnd.jupyter.widget-view+json": {
       "model_id": "bad50cd7d09f456989a64106dd0a8dce",
       "version_major": 2,
       "version_minor": 0
      },
      "text/plain": [
       "Saving the dataset (0/1 shards):   0%|          | 0/200 [00:00<?, ? examples/s]"
      ]
     },
     "metadata": {},
     "output_type": "display_data"
    },
    {
     "data": {
      "application/vnd.jupyter.widget-view+json": {
       "model_id": "2be18539b3d1424383b1586639cf0587",
       "version_major": 2,
       "version_minor": 0
      },
      "text/plain": [
       "Saving the dataset (0/1 shards):   0%|          | 0/150 [00:00<?, ? examples/s]"
      ]
     },
     "metadata": {},
     "output_type": "display_data"
    }
   ],
   "source": [
    "# Zhao\n",
    "# index = labels_df['index'].to_numpy().tolist()\n",
    "# id = labels_df['id'].to_numpy().tolist()\n",
    "# types = labels_df['type'].to_numpy().tolist()\n",
    "# cerebrovascular_disease = labels_df['cerebrovascular disease'].to_numpy().tolist()\n",
    "# coronary_heart_disease = labels_df['coronary heart disease'].to_numpy().tolist()\n",
    "# peripheral_arterial_disease = labels_df['peripheral arterial disease'].to_numpy().tolist()\n",
    "# nephropathy = labels_df['nephropathy'].to_numpy().tolist()\n",
    "# neuropathy = labels_df['neuropathy'].to_numpy().tolist()\n",
    "# retinopathy = labels_df['retinopathy'].to_numpy().tolist()\n",
    "# macrovascular = labels_df['macrovascular'].to_numpy().tolist()\n",
    "# microvascular = labels_df['microvascular'].to_numpy().tolist()\n",
    "# complication = labels_df['complication'].to_numpy().tolist()\n",
    "\n",
    "\n",
    "# shanghai\n",
    "# id,type,gender,age,ga,hba1c,fpg,ins0,cp0,tc,tg,bmi,ldl,hdl,HOMA-B,HOMA-IS,index\n",
    "id = labels_df['id'].to_numpy().tolist()\n",
    "types = labels_df['type'].to_numpy().tolist()\n",
    "age = labels_df['age'].to_numpy().tolist()\n",
    "bmi = labels_df['bmi'].to_numpy().tolist()\n",
    "hba1c = labels_df['hba1c'].to_numpy().tolist()\n",
    "homa_b = labels_df['HOMA-B'].to_numpy().tolist()\n",
    "homa_is = labels_df['HOMA-IS'].to_numpy().tolist()\n",
    "index = labels_df['index'].to_numpy().tolist()\n",
    "\n",
    "# p_id = labels_df['p_id'].to_numpy().tolist()\n",
    "# id = labels_df['id'].to_numpy().tolist()\n",
    "# Filled = labels_df['Filled'].to_numpy().tolist()\n",
    "# Day = labels_df['Day'].to_numpy().tolist()\n",
    "# hba1c = labels_df['hba1c'].to_numpy().tolist()\n",
    "# index = labels_df['index'].to_numpy().tolist()\n",
    "\n",
    "Fast_s = time_df['Fast_s'].to_numpy().tolist()\n",
    "Fast_e = time_df['Fast_e'].to_numpy().tolist()\n",
    "Dawn_s = time_df['Dawn_s'].to_numpy().tolist()\n",
    "Dawn_e = time_df['Dawn_e'].to_numpy().tolist()\n",
    "Breakfast_s = time_df['Breakfast_s'].to_numpy().tolist()\n",
    "Breakfast_e = time_df['Breakfast_e'].to_numpy().tolist()\n",
    "Lunch_s = time_df['Lunch_s'].to_numpy().tolist()\n",
    "Lunch_e = time_df['Lunch_e'].to_numpy().tolist()\n",
    "Dinner_s = time_df['Dinner_s'].to_numpy().tolist()\n",
    "Dinner_e = time_df['Dinner_e'].to_numpy().tolist()\n",
    "\n",
    "\n",
    "# p_id = labels_df['p_id'].to_numpy().tolist()\n",
    "# id = labels_df['id'].to_numpy().tolist()\n",
    "# Filled = labels_df['Filled'].to_numpy().tolist()\n",
    "# Day = labels_df['Day'].to_numpy().tolist()\n",
    "# index = labels_df['index'].to_numpy().tolist()\n",
    "\n",
    "new_data = {\n",
    "    'input_ids': input_ids,\n",
    "    'id': id,\n",
    "    'types': types,\n",
    "    'age': age,\n",
    "    'bmi': bmi,\n",
    "    'hba1c': hba1c,\n",
    "    'homa-b': homa_b,\n",
    "    'homa-is': homa_is,\n",
    "    'index': index,\n",
    "    # 'p_id': p_id,\n",
    "    # 'Filled': Filled,\n",
    "    # 'Day': Day,\n",
    "\n",
    "    'Fast_s': Fast_s,\n",
    "    'Fast_e': Fast_e,\n",
    "    'Dawn_s': Dawn_s,\n",
    "    'Dawn_e': Dawn_e,\n",
    "    'Breakfast_s': Breakfast_s,\n",
    "    'Breakfast_e': Breakfast_e,\n",
    "    'Lunch_s': Lunch_s,\n",
    "    'Lunch_e': Lunch_e,\n",
    "    'Dinner_s': Dinner_s,\n",
    "    'Dinner_e': Dinner_e,\n",
    "}\n",
    "# new_data # 19\n",
    "# len(new_data['input_ids']) # 1917\n",
    "# len(new_data['input_ids'][0]) # 288\n",
    "# new_data['input_ids']\n",
    "# len(new_data['index'])\n",
    "\n",
    "df = pd.DataFrame(new_data)\n",
    "sample_sizes = [1917, 1650, 1150, 750, 450, 250]\n",
    "saved_paths = [\"/share/home/liangzhongming/930/CGMformer/data/8_11_data/Shanghai_\" + str(size) for size in sample_sizes]\n",
    "\n",
    "for size, path in zip(sample_sizes, saved_paths):\n",
    "    sampled_df = df.sample(n=size, random_state=42)\n",
    "    dataset = Dataset.from_dict(sampled_df)\n",
    "    dataset.save_to_disk(path)\n",
    "\n",
    "# dataset = Dataset.from_dict(new_data)\n",
    "# dataset.save_to_disk(\"/share/home/liangzhongming/930/CGMformer/data/8_11_data/10_14_ShanghaiDiet_total\")\n",
    "\n",
    "\n",
    "# train_dataset, test_dataset = train_test_split(dataset, test_size=0.2, random_state=42)\n",
    "# train_dataset = Dataset.from_dict(train_dataset)\n",
    "# test_dataset = Dataset.from_dict(test_dataset)\n",
    "# # test_dataset\n",
    "\n",
    "# train_dataset.save_to_disk(\"/share/home/liangzhongming/930/CGMformer/data/Data_downstream/CITY_origin_train\")\n",
    "# test_dataset.save_to_disk(\"/share/home/liangzhongming/930/CGMformer/data/Data_downstream/CITY_origin_test\")\n",
    "# dataset.save_to_disk(\"/share/home/liangzhongming/930/CGMformer/data/Data_downstream/CITY_Interpolated\")\n"
   ]
  },
  {
   "cell_type": "code",
   "execution_count": 2,
   "metadata": {},
   "outputs": [
    {
     "data": {
      "application/vnd.jupyter.widget-view+json": {
       "model_id": "fd0920baa4f046009730965905d19adc",
       "version_major": 2,
       "version_minor": 0
      },
      "text/plain": [
       "Saving the dataset (0/1 shards):   0%|          | 0/297 [00:00<?, ? examples/s]"
      ]
     },
     "metadata": {},
     "output_type": "display_data"
    }
   ],
   "source": [
    "# Zhao\n",
    "# index = labels_df['index'].to_numpy().tolist()\n",
    "# id = labels_df['id'].to_numpy().tolist()\n",
    "# types = labels_df['type'].to_numpy().tolist()\n",
    "# cerebrovascular_disease = labels_df['cerebrovascular disease'].to_numpy().tolist()\n",
    "# coronary_heart_disease = labels_df['coronary heart disease'].to_numpy().tolist()\n",
    "# peripheral_arterial_disease = labels_df['peripheral arterial disease'].to_numpy().tolist()\n",
    "# nephropathy = labels_df['nephropathy'].to_numpy().tolist()\n",
    "# neuropathy = labels_df['neuropathy'].to_numpy().tolist()\n",
    "# retinopathy = labels_df['retinopathy'].to_numpy().tolist()\n",
    "# macrovascular = labels_df['macrovascular'].to_numpy().tolist()\n",
    "# microvascular = labels_df['microvascular'].to_numpy().tolist()\n",
    "# complication = labels_df['complication'].to_numpy().tolist()\n",
    "\n",
    "\n",
    "# shanghai\n",
    "# id,type,gender,age,ga,hba1c,fpg,ins0,cp0,tc,tg,bmi,ldl,hdl,HOMA-B,HOMA-IS,index\n",
    "id = labels_df['id'].to_numpy().tolist()\n",
    "types = labels_df['type'].to_numpy().tolist()\n",
    "age = labels_df['age'].to_numpy().tolist()\n",
    "bmi = labels_df['bmi'].to_numpy().tolist()\n",
    "hba1c = labels_df['hba1c'].to_numpy().tolist()\n",
    "homa_b = labels_df['HOMA-B'].to_numpy().tolist()\n",
    "homa_is = labels_df['HOMA-IS'].to_numpy().tolist()\n",
    "index = labels_df['index'].to_numpy().tolist()\n",
    "\n",
    "# p_id = labels_df['p_id'].to_numpy().tolist()\n",
    "# id = labels_df['id'].to_numpy().tolist()\n",
    "# Filled = labels_df['Filled'].to_numpy().tolist()\n",
    "# Day = labels_df['Day'].to_numpy().tolist()\n",
    "# hba1c = labels_df['hba1c'].to_numpy().tolist()\n",
    "# index = labels_df['index'].to_numpy().tolist()\n",
    "\n",
    "Fast_s = time_df['Fast_s'].to_numpy().tolist()\n",
    "Fast_e = time_df['Fast_e'].to_numpy().tolist()\n",
    "Dawn_s = time_df['Dawn_s'].to_numpy().tolist()\n",
    "Dawn_e = time_df['Dawn_e'].to_numpy().tolist()\n",
    "Breakfast_s = time_df['Breakfast_s'].to_numpy().tolist()\n",
    "Breakfast_e = time_df['Breakfast_e'].to_numpy().tolist()\n",
    "Lunch_s = time_df['Lunch_s'].to_numpy().tolist()\n",
    "Lunch_e = time_df['Lunch_e'].to_numpy().tolist()\n",
    "Dinner_s = time_df['Dinner_s'].to_numpy().tolist()\n",
    "Dinner_e = time_df['Dinner_e'].to_numpy().tolist()\n",
    "\n",
    "\n",
    "# p_id = labels_df['p_id'].to_numpy().tolist()\n",
    "# id = labels_df['id'].to_numpy().tolist()\n",
    "# Filled = labels_df['Filled'].to_numpy().tolist()\n",
    "# Day = labels_df['Day'].to_numpy().tolist()\n",
    "# index = labels_df['index'].to_numpy().tolist()\n",
    "\n",
    "new_data = {\n",
    "    'input_ids': input_ids,\n",
    "    'id': id,\n",
    "    'types': types,\n",
    "    'age': age,\n",
    "    'bmi': bmi,\n",
    "    'hba1c': hba1c,\n",
    "    'homa-b': homa_b,\n",
    "    'homa-is': homa_is,\n",
    "    'index': index,\n",
    "    # 'p_id': p_id,\n",
    "    # 'Filled': Filled,\n",
    "    # 'Day': Day,\n",
    "\n",
    "    'Fast_s': Fast_s,\n",
    "    'Fast_e': Fast_e,\n",
    "    'Dawn_s': Dawn_s,\n",
    "    'Dawn_e': Dawn_e,\n",
    "    'Breakfast_s': Breakfast_s,\n",
    "    'Breakfast_e': Breakfast_e,\n",
    "    'Lunch_s': Lunch_s,\n",
    "    'Lunch_e': Lunch_e,\n",
    "    'Dinner_s': Dinner_s,\n",
    "    'Dinner_e': Dinner_e,\n",
    "}\n",
    "# new_data # 19\n",
    "# len(new_data['input_ids']) # 1917\n",
    "# len(new_data['input_ids'][0]) # 288\n",
    "# new_data['input_ids']\n",
    "# len(new_data['index'])\n",
    "\n",
    "# 数据量实验\n",
    "df = pd.DataFrame(new_data)\n",
    "sample_sizes = [1917, 1650, 1150, 750, 450, 250]\n",
    "saved_paths = [\"/share/home/liangzhongming/930/CGMformer/data/8_11_data/Shanghai_\" + str(size) for size in sample_sizes]\n",
    "\n",
    "for size, path in zip(sample_sizes, saved_paths):\n",
    "    sampled_df = df.sample(n=size, random_state=42)\n",
    "    dataset = Dataset.from_dict(sampled_df)\n",
    "    dataset.save_to_disk(path)\n",
    "\n",
    "dataset = Dataset.from_dict(new_data)\n",
    "dataset.save_to_disk(\"/share/home/liangzhongming/930/CGMformer/data/8_11_data/10_14_ShanghaiDiet_total\")\n",
    "\n",
    "# train_dataset, test_dataset = train_test_split(dataset, test_size=0.2, random_state=42)\n",
    "# train_dataset = Dataset.from_dict(train_dataset)\n",
    "# test_dataset = Dataset.from_dict(test_dataset)\n",
    "# # test_dataset\n",
    "\n",
    "# train_dataset.save_to_disk(\"/share/home/liangzhongming/930/CGMformer/data/Data_downstream/CITY_origin_train\")\n",
    "# test_dataset.save_to_disk(\"/share/home/liangzhongming/930/CGMformer/data/Data_downstream/CITY_origin_test\")\n",
    "# dataset.save_to_disk(\"/share/home/liangzhongming/930/CGMformer/data/Data_downstream/CITY_Interpolated\")\n"
   ]
  },
  {
   "cell_type": "code",
   "execution_count": 3,
   "metadata": {},
   "outputs": [
    {
     "data": {
      "application/vnd.jupyter.widget-view+json": {
       "model_id": "c7c1af05ce7647d38bb0a2bb7fb0492c",
       "version_major": 2,
       "version_minor": 0
      },
      "text/plain": [
       "Saving the dataset (0/1 shards):   0%|          | 0/1511 [00:00<?, ? examples/s]"
      ]
     },
     "metadata": {},
     "output_type": "display_data"
    },
    {
     "data": {
      "application/vnd.jupyter.widget-view+json": {
       "model_id": "d4e247b940bd46fe8ceb343a1ba1e2e8",
       "version_major": 2,
       "version_minor": 0
      },
      "text/plain": [
       "Saving the dataset (0/1 shards):   0%|          | 0/406 [00:00<?, ? examples/s]"
      ]
     },
     "metadata": {},
     "output_type": "display_data"
    },
    {
     "data": {
      "application/vnd.jupyter.widget-view+json": {
       "model_id": "7d2818ace3024f70907477b97fabc813",
       "version_major": 2,
       "version_minor": 0
      },
      "text/plain": [
       "Saving the dataset (0/1 shards):   0%|          | 0/1533 [00:00<?, ? examples/s]"
      ]
     },
     "metadata": {},
     "output_type": "display_data"
    },
    {
     "data": {
      "application/vnd.jupyter.widget-view+json": {
       "model_id": "1e3c59022d38443c8a8d65c06eb076ac",
       "version_major": 2,
       "version_minor": 0
      },
      "text/plain": [
       "Saving the dataset (0/1 shards):   0%|          | 0/384 [00:00<?, ? examples/s]"
      ]
     },
     "metadata": {},
     "output_type": "display_data"
    },
    {
     "data": {
      "application/vnd.jupyter.widget-view+json": {
       "model_id": "c2e3ead3a6b44fe9a4c9b33b2e4677a7",
       "version_major": 2,
       "version_minor": 0
      },
      "text/plain": [
       "Saving the dataset (0/1 shards):   0%|          | 0/1544 [00:00<?, ? examples/s]"
      ]
     },
     "metadata": {},
     "output_type": "display_data"
    },
    {
     "data": {
      "application/vnd.jupyter.widget-view+json": {
       "model_id": "9b255fdeebad45539ba072bd759c7b20",
       "version_major": 2,
       "version_minor": 0
      },
      "text/plain": [
       "Saving the dataset (0/1 shards):   0%|          | 0/373 [00:00<?, ? examples/s]"
      ]
     },
     "metadata": {},
     "output_type": "display_data"
    },
    {
     "data": {
      "application/vnd.jupyter.widget-view+json": {
       "model_id": "ebee60b31936409898d9ac0c4cb9a17d",
       "version_major": 2,
       "version_minor": 0
      },
      "text/plain": [
       "Saving the dataset (0/1 shards):   0%|          | 0/1517 [00:00<?, ? examples/s]"
      ]
     },
     "metadata": {},
     "output_type": "display_data"
    },
    {
     "data": {
      "application/vnd.jupyter.widget-view+json": {
       "model_id": "af4237f068374417a649c89d246b5b14",
       "version_major": 2,
       "version_minor": 0
      },
      "text/plain": [
       "Saving the dataset (0/1 shards):   0%|          | 0/400 [00:00<?, ? examples/s]"
      ]
     },
     "metadata": {},
     "output_type": "display_data"
    },
    {
     "data": {
      "application/vnd.jupyter.widget-view+json": {
       "model_id": "ed1ddca708924e59bfc9262754000960",
       "version_major": 2,
       "version_minor": 0
      },
      "text/plain": [
       "Saving the dataset (0/1 shards):   0%|          | 0/1563 [00:00<?, ? examples/s]"
      ]
     },
     "metadata": {},
     "output_type": "display_data"
    },
    {
     "data": {
      "application/vnd.jupyter.widget-view+json": {
       "model_id": "99f805a721654bdabac2d020a106bd20",
       "version_major": 2,
       "version_minor": 0
      },
      "text/plain": [
       "Saving the dataset (0/1 shards):   0%|          | 0/354 [00:00<?, ? examples/s]"
      ]
     },
     "metadata": {},
     "output_type": "display_data"
    }
   ],
   "source": [
    "from collections import defaultdict\n",
    "import os\n",
    "\n",
    "cross_validation_splits = defaultdict(lambda: {'train': defaultdict(list), 'test': defaultdict(list)})\n",
    "\n",
    "for cv_col in splits_df.columns:\n",
    "    for idx, is_train in enumerate(splits_df[cv_col]):\n",
    "        target = 'train' if is_train else 'test'\n",
    "        \n",
    "        for key, values in new_data.items():\n",
    "            cross_validation_splits[cv_col][target][key].append(values[idx])\n",
    "\n",
    "output_dir = \"/share/home/liangzhongming/930/CGMformer/data/8_11_data/downstream/288\"\n",
    "\n",
    "cross_validation_datasets = {}\n",
    "for cv, splits in cross_validation_splits.items():\n",
    "    # cross_validation_datasets[cv] = {\n",
    "    #     'train': Dataset.from_dict(splits['train']),\n",
    "    #     'test': Dataset.from_dict(splits['test']),\n",
    "    # }\n",
    "    train_dataset = Dataset.from_dict(splits['train'])\n",
    "    test_dataset = Dataset.from_dict(splits['test'])\n",
    "\n",
    "    train_path = os.path.join(output_dir, cv, \"train\")\n",
    "    test_path = os.path.join(output_dir, cv, \"test\")\n",
    "\n",
    "    train_dataset.save_to_disk(train_path)\n",
    "    test_dataset.save_to_disk(test_path)"
   ]
  }
 ],
 "metadata": {
  "kernelspec": {
   "display_name": "Geneformer",
   "language": "python",
   "name": "geneformer"
  },
  "language_info": {
   "codemirror_mode": {
    "name": "ipython",
    "version": 3
   },
   "file_extension": ".py",
   "mimetype": "text/x-python",
   "name": "python",
   "nbconvert_exporter": "python",
   "pygments_lexer": "ipython3",
   "version": "3.8.16"
  },
  "vscode": {
   "interpreter": {
    "hash": "d64dfeeaa29aebed52d42a72f74562274a4e7a757ba6704e1720cd40e7f3fe71"
   }
  }
 },
 "nbformat": 4,
 "nbformat_minor": 2
}
